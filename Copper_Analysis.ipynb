{
 "cells": [
  {
   "cell_type": "code",
   "execution_count": 1,
   "id": "891e1c05",
   "metadata": {},
   "outputs": [],
   "source": [
    "import pandas as pd\n",
    "import numpy as np\n",
    "import plotly.express as px\n",
    "import plotly.graph_objects as go"
   ]
  },
  {
   "cell_type": "markdown",
   "id": "9af96959",
   "metadata": {},
   "source": [
    "## Analysis:\n",
    "\n",
    "* **Total demand for copper increases across all scenarios but at a decelerating rate over time.**\n",
    "    * For instance, in the Stated Policies Scenario (STEPS), while there are fluctuations in the percentage change in demand, the overall trend shows a slower rate of increase. Compared to 2023, demand in 2030 increases by 19.17%. However, from 2045 to 2050, demand increases by only 4.19%, acknowledging the difference in time spans (7 years versus 5 years).\n",
    "\n",
    "---\n",
    "### Conclusion (Combined with Copper Further Analysis in Excel)\n",
    "* Strong demand does not necessarily equate to a sustainable growth rate. Different scenarios lead to varying levels of demand. When computing the growth rate, the time frame (e.g., compounding frequency) and the choice of the starting year are crucial in determining the growth rate, especially in the current context of climate change and regulatory shifts. \n",
    "* The sustainable growth rate is a critical component of equity valuation. If only considered at the denominator level, changes in magnitude may appear small, but when combined with the numerator (e.g., FCFF, dividends), the impact on the valuation can be substantial."
   ]
  },
  {
   "cell_type": "code",
   "execution_count": 2,
   "id": "378313c0",
   "metadata": {},
   "outputs": [
    {
     "data": {
      "text/html": [
       "<div>\n",
       "<style scoped>\n",
       "    .dataframe tbody tr th:only-of-type {\n",
       "        vertical-align: middle;\n",
       "    }\n",
       "\n",
       "    .dataframe tbody tr th {\n",
       "        vertical-align: top;\n",
       "    }\n",
       "\n",
       "    .dataframe thead th {\n",
       "        text-align: right;\n",
       "    }\n",
       "</style>\n",
       "<table border=\"1\" class=\"dataframe\">\n",
       "  <thead>\n",
       "    <tr style=\"text-align: right;\">\n",
       "      <th></th>\n",
       "      <th>Year</th>\n",
       "      <th>Solar PV</th>\n",
       "      <th>Wind</th>\n",
       "      <th>Other low emissions power generation</th>\n",
       "      <th>Electric vehicles</th>\n",
       "      <th>Grid battery storage</th>\n",
       "      <th>Electricity networks</th>\n",
       "      <th>Hydrogen technologies</th>\n",
       "      <th>Total clean technologies</th>\n",
       "      <th>Other uses</th>\n",
       "      <th>Total demand</th>\n",
       "      <th>Share of clean technologies in total demand</th>\n",
       "      <th>scenarios</th>\n",
       "      <th>Critical Minerals</th>\n",
       "    </tr>\n",
       "  </thead>\n",
       "  <tbody>\n",
       "    <tr>\n",
       "      <th>0</th>\n",
       "      <td>2023</td>\n",
       "      <td>1208</td>\n",
       "      <td>502</td>\n",
       "      <td>83</td>\n",
       "      <td>396</td>\n",
       "      <td>40</td>\n",
       "      <td>4143</td>\n",
       "      <td>0</td>\n",
       "      <td>6372</td>\n",
       "      <td>19543</td>\n",
       "      <td>25915</td>\n",
       "      <td>25%</td>\n",
       "      <td>BASE</td>\n",
       "      <td>Copper</td>\n",
       "    </tr>\n",
       "    <tr>\n",
       "      <th>1</th>\n",
       "      <td>2030</td>\n",
       "      <td>1691</td>\n",
       "      <td>804</td>\n",
       "      <td>123</td>\n",
       "      <td>1645</td>\n",
       "      <td>176</td>\n",
       "      <td>6104</td>\n",
       "      <td>0</td>\n",
       "      <td>10542</td>\n",
       "      <td>20341</td>\n",
       "      <td>30883</td>\n",
       "      <td>34%</td>\n",
       "      <td>STEPS</td>\n",
       "      <td>Copper</td>\n",
       "    </tr>\n",
       "    <tr>\n",
       "      <th>2</th>\n",
       "      <td>2035</td>\n",
       "      <td>1728</td>\n",
       "      <td>692</td>\n",
       "      <td>81</td>\n",
       "      <td>2594</td>\n",
       "      <td>260</td>\n",
       "      <td>6168</td>\n",
       "      <td>0</td>\n",
       "      <td>11523</td>\n",
       "      <td>21038</td>\n",
       "      <td>32561</td>\n",
       "      <td>35%</td>\n",
       "      <td>STEPS</td>\n",
       "      <td>Copper</td>\n",
       "    </tr>\n",
       "    <tr>\n",
       "      <th>3</th>\n",
       "      <td>2040</td>\n",
       "      <td>1684</td>\n",
       "      <td>580</td>\n",
       "      <td>83</td>\n",
       "      <td>3131</td>\n",
       "      <td>381</td>\n",
       "      <td>6125</td>\n",
       "      <td>0</td>\n",
       "      <td>11984</td>\n",
       "      <td>21997</td>\n",
       "      <td>33981</td>\n",
       "      <td>35%</td>\n",
       "      <td>STEPS</td>\n",
       "      <td>Copper</td>\n",
       "    </tr>\n",
       "    <tr>\n",
       "      <th>4</th>\n",
       "      <td>2045</td>\n",
       "      <td>1773</td>\n",
       "      <td>626</td>\n",
       "      <td>108</td>\n",
       "      <td>3287</td>\n",
       "      <td>454</td>\n",
       "      <td>6312</td>\n",
       "      <td>0</td>\n",
       "      <td>12560</td>\n",
       "      <td>23564</td>\n",
       "      <td>36124</td>\n",
       "      <td>35%</td>\n",
       "      <td>STEPS</td>\n",
       "      <td>Copper</td>\n",
       "    </tr>\n",
       "  </tbody>\n",
       "</table>\n",
       "</div>"
      ],
      "text/plain": [
       "   Year  Solar PV  Wind  Other low emissions power generation  \\\n",
       "0  2023      1208   502                                    83   \n",
       "1  2030      1691   804                                   123   \n",
       "2  2035      1728   692                                    81   \n",
       "3  2040      1684   580                                    83   \n",
       "4  2045      1773   626                                   108   \n",
       "\n",
       "   Electric vehicles  Grid battery storage  Electricity networks  \\\n",
       "0                396                    40                  4143   \n",
       "1               1645                   176                  6104   \n",
       "2               2594                   260                  6168   \n",
       "3               3131                   381                  6125   \n",
       "4               3287                   454                  6312   \n",
       "\n",
       "   Hydrogen technologies  Total clean technologies  Other uses  Total demand  \\\n",
       "0                      0                      6372       19543         25915   \n",
       "1                      0                     10542       20341         30883   \n",
       "2                      0                     11523       21038         32561   \n",
       "3                      0                     11984       21997         33981   \n",
       "4                      0                     12560       23564         36124   \n",
       "\n",
       "  Share of clean technologies in total demand  scenarios Critical Minerals  \n",
       "0                                          25%      BASE            Copper  \n",
       "1                                          34%     STEPS            Copper  \n",
       "2                                          35%     STEPS            Copper  \n",
       "3                                          35%     STEPS            Copper  \n",
       "4                                          35%     STEPS            Copper  "
      ]
     },
     "execution_count": 2,
     "metadata": {},
     "output_type": "execute_result"
    }
   ],
   "source": [
    "data = pd.read_excel(\"outputs/copper_demand.xlsx\")\n",
    "data.head()"
   ]
  },
  {
   "cell_type": "code",
   "execution_count": 3,
   "id": "4c77954f",
   "metadata": {},
   "outputs": [
    {
     "data": {
      "text/plain": [
       "25915"
      ]
     },
     "execution_count": 3,
     "metadata": {},
     "output_type": "execute_result"
    }
   ],
   "source": [
    "base_value = data[data['scenarios'] == 'BASE'].iloc[0]['Total demand']\n",
    "base_value"
   ]
  },
  {
   "cell_type": "code",
   "execution_count": 4,
   "id": "9e07b221",
   "metadata": {},
   "outputs": [
    {
     "data": {
      "text/html": [
       "<div>\n",
       "<style scoped>\n",
       "    .dataframe tbody tr th:only-of-type {\n",
       "        vertical-align: middle;\n",
       "    }\n",
       "\n",
       "    .dataframe tbody tr th {\n",
       "        vertical-align: top;\n",
       "    }\n",
       "\n",
       "    .dataframe thead th {\n",
       "        text-align: right;\n",
       "    }\n",
       "</style>\n",
       "<table border=\"1\" class=\"dataframe\">\n",
       "  <thead>\n",
       "    <tr style=\"text-align: right;\">\n",
       "      <th></th>\n",
       "      <th>Year</th>\n",
       "      <th>Solar PV</th>\n",
       "      <th>Wind</th>\n",
       "      <th>Other low emissions power generation</th>\n",
       "      <th>Electric vehicles</th>\n",
       "      <th>Grid battery storage</th>\n",
       "      <th>Electricity networks</th>\n",
       "      <th>Hydrogen technologies</th>\n",
       "      <th>Total clean technologies</th>\n",
       "      <th>Other uses</th>\n",
       "      <th>Total demand</th>\n",
       "      <th>Share of clean technologies in total demand</th>\n",
       "      <th>scenarios</th>\n",
       "      <th>Critical Minerals</th>\n",
       "      <th>pct_change</th>\n",
       "    </tr>\n",
       "  </thead>\n",
       "  <tbody>\n",
       "    <tr>\n",
       "      <th>0</th>\n",
       "      <td>2023</td>\n",
       "      <td>1208</td>\n",
       "      <td>502</td>\n",
       "      <td>83</td>\n",
       "      <td>396</td>\n",
       "      <td>40</td>\n",
       "      <td>4143</td>\n",
       "      <td>0</td>\n",
       "      <td>6372</td>\n",
       "      <td>19543</td>\n",
       "      <td>25915</td>\n",
       "      <td>25%</td>\n",
       "      <td>BASE</td>\n",
       "      <td>Copper</td>\n",
       "      <td>NaN</td>\n",
       "    </tr>\n",
       "    <tr>\n",
       "      <th>1</th>\n",
       "      <td>2030</td>\n",
       "      <td>1691</td>\n",
       "      <td>804</td>\n",
       "      <td>123</td>\n",
       "      <td>1645</td>\n",
       "      <td>176</td>\n",
       "      <td>6104</td>\n",
       "      <td>0</td>\n",
       "      <td>10542</td>\n",
       "      <td>20341</td>\n",
       "      <td>30883</td>\n",
       "      <td>34%</td>\n",
       "      <td>STEPS</td>\n",
       "      <td>Copper</td>\n",
       "      <td>NaN</td>\n",
       "    </tr>\n",
       "    <tr>\n",
       "      <th>2</th>\n",
       "      <td>2035</td>\n",
       "      <td>1728</td>\n",
       "      <td>692</td>\n",
       "      <td>81</td>\n",
       "      <td>2594</td>\n",
       "      <td>260</td>\n",
       "      <td>6168</td>\n",
       "      <td>0</td>\n",
       "      <td>11523</td>\n",
       "      <td>21038</td>\n",
       "      <td>32561</td>\n",
       "      <td>35%</td>\n",
       "      <td>STEPS</td>\n",
       "      <td>Copper</td>\n",
       "      <td>5.433410</td>\n",
       "    </tr>\n",
       "    <tr>\n",
       "      <th>3</th>\n",
       "      <td>2040</td>\n",
       "      <td>1684</td>\n",
       "      <td>580</td>\n",
       "      <td>83</td>\n",
       "      <td>3131</td>\n",
       "      <td>381</td>\n",
       "      <td>6125</td>\n",
       "      <td>0</td>\n",
       "      <td>11984</td>\n",
       "      <td>21997</td>\n",
       "      <td>33981</td>\n",
       "      <td>35%</td>\n",
       "      <td>STEPS</td>\n",
       "      <td>Copper</td>\n",
       "      <td>4.361045</td>\n",
       "    </tr>\n",
       "    <tr>\n",
       "      <th>4</th>\n",
       "      <td>2045</td>\n",
       "      <td>1773</td>\n",
       "      <td>626</td>\n",
       "      <td>108</td>\n",
       "      <td>3287</td>\n",
       "      <td>454</td>\n",
       "      <td>6312</td>\n",
       "      <td>0</td>\n",
       "      <td>12560</td>\n",
       "      <td>23564</td>\n",
       "      <td>36124</td>\n",
       "      <td>35%</td>\n",
       "      <td>STEPS</td>\n",
       "      <td>Copper</td>\n",
       "      <td>6.306465</td>\n",
       "    </tr>\n",
       "  </tbody>\n",
       "</table>\n",
       "</div>"
      ],
      "text/plain": [
       "   Year  Solar PV  Wind  Other low emissions power generation  \\\n",
       "0  2023      1208   502                                    83   \n",
       "1  2030      1691   804                                   123   \n",
       "2  2035      1728   692                                    81   \n",
       "3  2040      1684   580                                    83   \n",
       "4  2045      1773   626                                   108   \n",
       "\n",
       "   Electric vehicles  Grid battery storage  Electricity networks  \\\n",
       "0                396                    40                  4143   \n",
       "1               1645                   176                  6104   \n",
       "2               2594                   260                  6168   \n",
       "3               3131                   381                  6125   \n",
       "4               3287                   454                  6312   \n",
       "\n",
       "   Hydrogen technologies  Total clean technologies  Other uses  Total demand  \\\n",
       "0                      0                      6372       19543         25915   \n",
       "1                      0                     10542       20341         30883   \n",
       "2                      0                     11523       21038         32561   \n",
       "3                      0                     11984       21997         33981   \n",
       "4                      0                     12560       23564         36124   \n",
       "\n",
       "  Share of clean technologies in total demand  scenarios Critical Minerals  \\\n",
       "0                                          25%      BASE            Copper   \n",
       "1                                          34%     STEPS            Copper   \n",
       "2                                          35%     STEPS            Copper   \n",
       "3                                          35%     STEPS            Copper   \n",
       "4                                          35%     STEPS            Copper   \n",
       "\n",
       "   pct_change  \n",
       "0         NaN  \n",
       "1         NaN  \n",
       "2    5.433410  \n",
       "3    4.361045  \n",
       "4    6.306465  "
      ]
     },
     "execution_count": 4,
     "metadata": {},
     "output_type": "execute_result"
    }
   ],
   "source": [
    "data['pct_change'] = data.groupby('scenarios')['Total demand'].pct_change()*100\n",
    "data.head()"
   ]
  },
  {
   "cell_type": "code",
   "execution_count": 5,
   "id": "86662aac",
   "metadata": {},
   "outputs": [],
   "source": [
    "def fill_first_value(group, base_value):\n",
    "    first_value = group.iloc[0]['Total demand']\n",
    "    pct_change_first = (first_value - base_value) / base_value*100\n",
    "    group.iloc[0, group.columns.get_loc('pct_change')] = pct_change_first\n",
    "    return group"
   ]
  },
  {
   "cell_type": "code",
   "execution_count": 6,
   "id": "d308592d",
   "metadata": {},
   "outputs": [],
   "source": [
    "df_scenarios = data.groupby('scenarios',group_keys=False).apply(fill_first_value, base_value=base_value).reset_index(drop=True)\n"
   ]
  },
  {
   "cell_type": "code",
   "execution_count": 7,
   "id": "ea3614fe",
   "metadata": {},
   "outputs": [
    {
     "data": {
      "text/html": [
       "<div>\n",
       "<style scoped>\n",
       "    .dataframe tbody tr th:only-of-type {\n",
       "        vertical-align: middle;\n",
       "    }\n",
       "\n",
       "    .dataframe tbody tr th {\n",
       "        vertical-align: top;\n",
       "    }\n",
       "\n",
       "    .dataframe thead th {\n",
       "        text-align: right;\n",
       "    }\n",
       "</style>\n",
       "<table border=\"1\" class=\"dataframe\">\n",
       "  <thead>\n",
       "    <tr style=\"text-align: right;\">\n",
       "      <th></th>\n",
       "      <th>Year</th>\n",
       "      <th>Solar PV</th>\n",
       "      <th>Wind</th>\n",
       "      <th>Other low emissions power generation</th>\n",
       "      <th>Electric vehicles</th>\n",
       "      <th>Grid battery storage</th>\n",
       "      <th>Electricity networks</th>\n",
       "      <th>Hydrogen technologies</th>\n",
       "      <th>Total clean technologies</th>\n",
       "      <th>Other uses</th>\n",
       "      <th>Total demand</th>\n",
       "      <th>Share of clean technologies in total demand</th>\n",
       "      <th>scenarios</th>\n",
       "      <th>Critical Minerals</th>\n",
       "      <th>pct_change</th>\n",
       "    </tr>\n",
       "  </thead>\n",
       "  <tbody>\n",
       "    <tr>\n",
       "      <th>0</th>\n",
       "      <td>2023</td>\n",
       "      <td>1208</td>\n",
       "      <td>502</td>\n",
       "      <td>83</td>\n",
       "      <td>396</td>\n",
       "      <td>40</td>\n",
       "      <td>4143</td>\n",
       "      <td>0</td>\n",
       "      <td>6372</td>\n",
       "      <td>19543</td>\n",
       "      <td>25915</td>\n",
       "      <td>25%</td>\n",
       "      <td>BASE</td>\n",
       "      <td>Copper</td>\n",
       "      <td>0.000000</td>\n",
       "    </tr>\n",
       "    <tr>\n",
       "      <th>1</th>\n",
       "      <td>2030</td>\n",
       "      <td>1691</td>\n",
       "      <td>804</td>\n",
       "      <td>123</td>\n",
       "      <td>1645</td>\n",
       "      <td>176</td>\n",
       "      <td>6104</td>\n",
       "      <td>0</td>\n",
       "      <td>10542</td>\n",
       "      <td>20341</td>\n",
       "      <td>30883</td>\n",
       "      <td>34%</td>\n",
       "      <td>STEPS</td>\n",
       "      <td>Copper</td>\n",
       "      <td>19.170365</td>\n",
       "    </tr>\n",
       "    <tr>\n",
       "      <th>2</th>\n",
       "      <td>2035</td>\n",
       "      <td>1728</td>\n",
       "      <td>692</td>\n",
       "      <td>81</td>\n",
       "      <td>2594</td>\n",
       "      <td>260</td>\n",
       "      <td>6168</td>\n",
       "      <td>0</td>\n",
       "      <td>11523</td>\n",
       "      <td>21038</td>\n",
       "      <td>32561</td>\n",
       "      <td>35%</td>\n",
       "      <td>STEPS</td>\n",
       "      <td>Copper</td>\n",
       "      <td>5.433410</td>\n",
       "    </tr>\n",
       "    <tr>\n",
       "      <th>3</th>\n",
       "      <td>2040</td>\n",
       "      <td>1684</td>\n",
       "      <td>580</td>\n",
       "      <td>83</td>\n",
       "      <td>3131</td>\n",
       "      <td>381</td>\n",
       "      <td>6125</td>\n",
       "      <td>0</td>\n",
       "      <td>11984</td>\n",
       "      <td>21997</td>\n",
       "      <td>33981</td>\n",
       "      <td>35%</td>\n",
       "      <td>STEPS</td>\n",
       "      <td>Copper</td>\n",
       "      <td>4.361045</td>\n",
       "    </tr>\n",
       "    <tr>\n",
       "      <th>4</th>\n",
       "      <td>2045</td>\n",
       "      <td>1773</td>\n",
       "      <td>626</td>\n",
       "      <td>108</td>\n",
       "      <td>3287</td>\n",
       "      <td>454</td>\n",
       "      <td>6312</td>\n",
       "      <td>0</td>\n",
       "      <td>12560</td>\n",
       "      <td>23564</td>\n",
       "      <td>36124</td>\n",
       "      <td>35%</td>\n",
       "      <td>STEPS</td>\n",
       "      <td>Copper</td>\n",
       "      <td>6.306465</td>\n",
       "    </tr>\n",
       "    <tr>\n",
       "      <th>5</th>\n",
       "      <td>2050</td>\n",
       "      <td>1959</td>\n",
       "      <td>805</td>\n",
       "      <td>104</td>\n",
       "      <td>3470</td>\n",
       "      <td>545</td>\n",
       "      <td>6084</td>\n",
       "      <td>0</td>\n",
       "      <td>12967</td>\n",
       "      <td>24671</td>\n",
       "      <td>37638</td>\n",
       "      <td>34%</td>\n",
       "      <td>STEPS</td>\n",
       "      <td>Copper</td>\n",
       "      <td>4.191119</td>\n",
       "    </tr>\n",
       "    <tr>\n",
       "      <th>6</th>\n",
       "      <td>2030</td>\n",
       "      <td>2117</td>\n",
       "      <td>1052</td>\n",
       "      <td>163</td>\n",
       "      <td>1870</td>\n",
       "      <td>221</td>\n",
       "      <td>6808</td>\n",
       "      <td>0</td>\n",
       "      <td>12231</td>\n",
       "      <td>19127</td>\n",
       "      <td>31358</td>\n",
       "      <td>39%</td>\n",
       "      <td>APS</td>\n",
       "      <td>Copper</td>\n",
       "      <td>21.003280</td>\n",
       "    </tr>\n",
       "    <tr>\n",
       "      <th>7</th>\n",
       "      <td>2035</td>\n",
       "      <td>2168</td>\n",
       "      <td>968</td>\n",
       "      <td>163</td>\n",
       "      <td>3256</td>\n",
       "      <td>327</td>\n",
       "      <td>7542</td>\n",
       "      <td>0</td>\n",
       "      <td>14424</td>\n",
       "      <td>19285</td>\n",
       "      <td>33709</td>\n",
       "      <td>43%</td>\n",
       "      <td>APS</td>\n",
       "      <td>Copper</td>\n",
       "      <td>7.497289</td>\n",
       "    </tr>\n",
       "    <tr>\n",
       "      <th>8</th>\n",
       "      <td>2040</td>\n",
       "      <td>2049</td>\n",
       "      <td>939</td>\n",
       "      <td>146</td>\n",
       "      <td>4297</td>\n",
       "      <td>509</td>\n",
       "      <td>8186</td>\n",
       "      <td>0</td>\n",
       "      <td>16127</td>\n",
       "      <td>20036</td>\n",
       "      <td>36163</td>\n",
       "      <td>45%</td>\n",
       "      <td>APS</td>\n",
       "      <td>Copper</td>\n",
       "      <td>7.279955</td>\n",
       "    </tr>\n",
       "    <tr>\n",
       "      <th>9</th>\n",
       "      <td>2045</td>\n",
       "      <td>1984</td>\n",
       "      <td>1047</td>\n",
       "      <td>155</td>\n",
       "      <td>4585</td>\n",
       "      <td>589</td>\n",
       "      <td>8471</td>\n",
       "      <td>0</td>\n",
       "      <td>16831</td>\n",
       "      <td>21189</td>\n",
       "      <td>38021</td>\n",
       "      <td>44%</td>\n",
       "      <td>APS</td>\n",
       "      <td>Copper</td>\n",
       "      <td>5.137848</td>\n",
       "    </tr>\n",
       "  </tbody>\n",
       "</table>\n",
       "</div>"
      ],
      "text/plain": [
       "   Year  Solar PV  Wind  Other low emissions power generation  \\\n",
       "0  2023      1208   502                                    83   \n",
       "1  2030      1691   804                                   123   \n",
       "2  2035      1728   692                                    81   \n",
       "3  2040      1684   580                                    83   \n",
       "4  2045      1773   626                                   108   \n",
       "5  2050      1959   805                                   104   \n",
       "6  2030      2117  1052                                   163   \n",
       "7  2035      2168   968                                   163   \n",
       "8  2040      2049   939                                   146   \n",
       "9  2045      1984  1047                                   155   \n",
       "\n",
       "   Electric vehicles  Grid battery storage  Electricity networks  \\\n",
       "0                396                    40                  4143   \n",
       "1               1645                   176                  6104   \n",
       "2               2594                   260                  6168   \n",
       "3               3131                   381                  6125   \n",
       "4               3287                   454                  6312   \n",
       "5               3470                   545                  6084   \n",
       "6               1870                   221                  6808   \n",
       "7               3256                   327                  7542   \n",
       "8               4297                   509                  8186   \n",
       "9               4585                   589                  8471   \n",
       "\n",
       "   Hydrogen technologies  Total clean technologies  Other uses  Total demand  \\\n",
       "0                      0                      6372       19543         25915   \n",
       "1                      0                     10542       20341         30883   \n",
       "2                      0                     11523       21038         32561   \n",
       "3                      0                     11984       21997         33981   \n",
       "4                      0                     12560       23564         36124   \n",
       "5                      0                     12967       24671         37638   \n",
       "6                      0                     12231       19127         31358   \n",
       "7                      0                     14424       19285         33709   \n",
       "8                      0                     16127       20036         36163   \n",
       "9                      0                     16831       21189         38021   \n",
       "\n",
       "  Share of clean technologies in total demand  scenarios Critical Minerals  \\\n",
       "0                                          25%      BASE            Copper   \n",
       "1                                          34%     STEPS            Copper   \n",
       "2                                          35%     STEPS            Copper   \n",
       "3                                          35%     STEPS            Copper   \n",
       "4                                          35%     STEPS            Copper   \n",
       "5                                          34%     STEPS            Copper   \n",
       "6                                          39%       APS            Copper   \n",
       "7                                          43%       APS            Copper   \n",
       "8                                          45%       APS            Copper   \n",
       "9                                          44%       APS            Copper   \n",
       "\n",
       "   pct_change  \n",
       "0    0.000000  \n",
       "1   19.170365  \n",
       "2    5.433410  \n",
       "3    4.361045  \n",
       "4    6.306465  \n",
       "5    4.191119  \n",
       "6   21.003280  \n",
       "7    7.497289  \n",
       "8    7.279955  \n",
       "9    5.137848  "
      ]
     },
     "execution_count": 7,
     "metadata": {},
     "output_type": "execute_result"
    }
   ],
   "source": [
    "df_scenarios.head(10)"
   ]
  },
  {
   "cell_type": "code",
   "execution_count": 8,
   "id": "f31fd602",
   "metadata": {},
   "outputs": [],
   "source": [
    "df_copy_graph = df_scenarios.copy()"
   ]
  },
  {
   "cell_type": "code",
   "execution_count": 9,
   "id": "e21e86de",
   "metadata": {},
   "outputs": [
    {
     "data": {
      "text/html": [
       "<div>\n",
       "<style scoped>\n",
       "    .dataframe tbody tr th:only-of-type {\n",
       "        vertical-align: middle;\n",
       "    }\n",
       "\n",
       "    .dataframe tbody tr th {\n",
       "        vertical-align: top;\n",
       "    }\n",
       "\n",
       "    .dataframe thead th {\n",
       "        text-align: right;\n",
       "    }\n",
       "</style>\n",
       "<table border=\"1\" class=\"dataframe\">\n",
       "  <thead>\n",
       "    <tr style=\"text-align: right;\">\n",
       "      <th></th>\n",
       "      <th>Year</th>\n",
       "      <th>Solar PV</th>\n",
       "      <th>Wind</th>\n",
       "      <th>Other low emissions power generation</th>\n",
       "      <th>Electric vehicles</th>\n",
       "      <th>Grid battery storage</th>\n",
       "      <th>Electricity networks</th>\n",
       "      <th>Hydrogen technologies</th>\n",
       "      <th>Total clean technologies</th>\n",
       "      <th>Other uses</th>\n",
       "      <th>Total demand</th>\n",
       "      <th>Share of clean technologies in total demand</th>\n",
       "      <th>scenarios</th>\n",
       "      <th>Critical Minerals</th>\n",
       "      <th>pct_change</th>\n",
       "    </tr>\n",
       "  </thead>\n",
       "  <tbody>\n",
       "    <tr>\n",
       "      <th>1</th>\n",
       "      <td>2030</td>\n",
       "      <td>1691</td>\n",
       "      <td>804</td>\n",
       "      <td>123</td>\n",
       "      <td>1645</td>\n",
       "      <td>176</td>\n",
       "      <td>6104</td>\n",
       "      <td>0</td>\n",
       "      <td>10542</td>\n",
       "      <td>20341</td>\n",
       "      <td>30883</td>\n",
       "      <td>34%</td>\n",
       "      <td>STEPS</td>\n",
       "      <td>Copper</td>\n",
       "      <td>19.170365</td>\n",
       "    </tr>\n",
       "    <tr>\n",
       "      <th>2</th>\n",
       "      <td>2035</td>\n",
       "      <td>1728</td>\n",
       "      <td>692</td>\n",
       "      <td>81</td>\n",
       "      <td>2594</td>\n",
       "      <td>260</td>\n",
       "      <td>6168</td>\n",
       "      <td>0</td>\n",
       "      <td>11523</td>\n",
       "      <td>21038</td>\n",
       "      <td>32561</td>\n",
       "      <td>35%</td>\n",
       "      <td>STEPS</td>\n",
       "      <td>Copper</td>\n",
       "      <td>5.433410</td>\n",
       "    </tr>\n",
       "    <tr>\n",
       "      <th>3</th>\n",
       "      <td>2040</td>\n",
       "      <td>1684</td>\n",
       "      <td>580</td>\n",
       "      <td>83</td>\n",
       "      <td>3131</td>\n",
       "      <td>381</td>\n",
       "      <td>6125</td>\n",
       "      <td>0</td>\n",
       "      <td>11984</td>\n",
       "      <td>21997</td>\n",
       "      <td>33981</td>\n",
       "      <td>35%</td>\n",
       "      <td>STEPS</td>\n",
       "      <td>Copper</td>\n",
       "      <td>4.361045</td>\n",
       "    </tr>\n",
       "    <tr>\n",
       "      <th>4</th>\n",
       "      <td>2045</td>\n",
       "      <td>1773</td>\n",
       "      <td>626</td>\n",
       "      <td>108</td>\n",
       "      <td>3287</td>\n",
       "      <td>454</td>\n",
       "      <td>6312</td>\n",
       "      <td>0</td>\n",
       "      <td>12560</td>\n",
       "      <td>23564</td>\n",
       "      <td>36124</td>\n",
       "      <td>35%</td>\n",
       "      <td>STEPS</td>\n",
       "      <td>Copper</td>\n",
       "      <td>6.306465</td>\n",
       "    </tr>\n",
       "    <tr>\n",
       "      <th>5</th>\n",
       "      <td>2050</td>\n",
       "      <td>1959</td>\n",
       "      <td>805</td>\n",
       "      <td>104</td>\n",
       "      <td>3470</td>\n",
       "      <td>545</td>\n",
       "      <td>6084</td>\n",
       "      <td>0</td>\n",
       "      <td>12967</td>\n",
       "      <td>24671</td>\n",
       "      <td>37638</td>\n",
       "      <td>34%</td>\n",
       "      <td>STEPS</td>\n",
       "      <td>Copper</td>\n",
       "      <td>4.191119</td>\n",
       "    </tr>\n",
       "  </tbody>\n",
       "</table>\n",
       "</div>"
      ],
      "text/plain": [
       "   Year  Solar PV  Wind  Other low emissions power generation  \\\n",
       "1  2030      1691   804                                   123   \n",
       "2  2035      1728   692                                    81   \n",
       "3  2040      1684   580                                    83   \n",
       "4  2045      1773   626                                   108   \n",
       "5  2050      1959   805                                   104   \n",
       "\n",
       "   Electric vehicles  Grid battery storage  Electricity networks  \\\n",
       "1               1645                   176                  6104   \n",
       "2               2594                   260                  6168   \n",
       "3               3131                   381                  6125   \n",
       "4               3287                   454                  6312   \n",
       "5               3470                   545                  6084   \n",
       "\n",
       "   Hydrogen technologies  Total clean technologies  Other uses  Total demand  \\\n",
       "1                      0                     10542       20341         30883   \n",
       "2                      0                     11523       21038         32561   \n",
       "3                      0                     11984       21997         33981   \n",
       "4                      0                     12560       23564         36124   \n",
       "5                      0                     12967       24671         37638   \n",
       "\n",
       "  Share of clean technologies in total demand  scenarios Critical Minerals  \\\n",
       "1                                          34%     STEPS            Copper   \n",
       "2                                          35%     STEPS            Copper   \n",
       "3                                          35%     STEPS            Copper   \n",
       "4                                          35%     STEPS            Copper   \n",
       "5                                          34%     STEPS            Copper   \n",
       "\n",
       "   pct_change  \n",
       "1   19.170365  \n",
       "2    5.433410  \n",
       "3    4.361045  \n",
       "4    6.306465  \n",
       "5    4.191119  "
      ]
     },
     "execution_count": 9,
     "metadata": {},
     "output_type": "execute_result"
    }
   ],
   "source": [
    "df_excl_base = df_copy_graph.iloc[1:]\n",
    "df_excl_base.head()"
   ]
  },
  {
   "cell_type": "code",
   "execution_count": 12,
   "id": "a75abe1d",
   "metadata": {},
   "outputs": [
    {
     "data": {
      "application/vnd.plotly.v1+json": {
       "config": {
        "plotlyServerURL": "https://plot.ly"
       },
       "data": [
        {
         "mode": "lines+markers",
         "name": "STEPS",
         "type": "scatter",
         "x": [
          2030,
          2035,
          2040,
          2045,
          2050
         ],
         "y": [
          19.170364653675477,
          5.433409966648317,
          4.3610454224378925,
          6.306465377711068,
          4.191119477355776
         ]
        },
        {
         "mode": "lines+markers",
         "name": "APS",
         "type": "scatter",
         "x": [
          2030,
          2035,
          2040,
          2045,
          2050
         ],
         "y": [
          21.00327995369477,
          7.497289367944382,
          7.27995490818476,
          5.13784807676354,
          3.8505036690250183
         ]
        },
        {
         "mode": "lines+markers",
         "name": "NZE",
         "type": "scatter",
         "x": [
          2030,
          2035,
          2040,
          2045,
          2050
         ],
         "y": [
          29.06038973567432,
          10.99384081803505,
          4.819114834469196,
          2.490234375,
          2.0862064642310774
         ]
        }
       ],
       "layout": {
        "template": {
         "data": {
          "bar": [
           {
            "error_x": {
             "color": "#2a3f5f"
            },
            "error_y": {
             "color": "#2a3f5f"
            },
            "marker": {
             "line": {
              "color": "#E5ECF6",
              "width": 0.5
             },
             "pattern": {
              "fillmode": "overlay",
              "size": 10,
              "solidity": 0.2
             }
            },
            "type": "bar"
           }
          ],
          "barpolar": [
           {
            "marker": {
             "line": {
              "color": "#E5ECF6",
              "width": 0.5
             },
             "pattern": {
              "fillmode": "overlay",
              "size": 10,
              "solidity": 0.2
             }
            },
            "type": "barpolar"
           }
          ],
          "carpet": [
           {
            "aaxis": {
             "endlinecolor": "#2a3f5f",
             "gridcolor": "white",
             "linecolor": "white",
             "minorgridcolor": "white",
             "startlinecolor": "#2a3f5f"
            },
            "baxis": {
             "endlinecolor": "#2a3f5f",
             "gridcolor": "white",
             "linecolor": "white",
             "minorgridcolor": "white",
             "startlinecolor": "#2a3f5f"
            },
            "type": "carpet"
           }
          ],
          "choropleth": [
           {
            "colorbar": {
             "outlinewidth": 0,
             "ticks": ""
            },
            "type": "choropleth"
           }
          ],
          "contour": [
           {
            "colorbar": {
             "outlinewidth": 0,
             "ticks": ""
            },
            "colorscale": [
             [
              0,
              "#0d0887"
             ],
             [
              0.1111111111111111,
              "#46039f"
             ],
             [
              0.2222222222222222,
              "#7201a8"
             ],
             [
              0.3333333333333333,
              "#9c179e"
             ],
             [
              0.4444444444444444,
              "#bd3786"
             ],
             [
              0.5555555555555556,
              "#d8576b"
             ],
             [
              0.6666666666666666,
              "#ed7953"
             ],
             [
              0.7777777777777778,
              "#fb9f3a"
             ],
             [
              0.8888888888888888,
              "#fdca26"
             ],
             [
              1,
              "#f0f921"
             ]
            ],
            "type": "contour"
           }
          ],
          "contourcarpet": [
           {
            "colorbar": {
             "outlinewidth": 0,
             "ticks": ""
            },
            "type": "contourcarpet"
           }
          ],
          "heatmap": [
           {
            "colorbar": {
             "outlinewidth": 0,
             "ticks": ""
            },
            "colorscale": [
             [
              0,
              "#0d0887"
             ],
             [
              0.1111111111111111,
              "#46039f"
             ],
             [
              0.2222222222222222,
              "#7201a8"
             ],
             [
              0.3333333333333333,
              "#9c179e"
             ],
             [
              0.4444444444444444,
              "#bd3786"
             ],
             [
              0.5555555555555556,
              "#d8576b"
             ],
             [
              0.6666666666666666,
              "#ed7953"
             ],
             [
              0.7777777777777778,
              "#fb9f3a"
             ],
             [
              0.8888888888888888,
              "#fdca26"
             ],
             [
              1,
              "#f0f921"
             ]
            ],
            "type": "heatmap"
           }
          ],
          "heatmapgl": [
           {
            "colorbar": {
             "outlinewidth": 0,
             "ticks": ""
            },
            "colorscale": [
             [
              0,
              "#0d0887"
             ],
             [
              0.1111111111111111,
              "#46039f"
             ],
             [
              0.2222222222222222,
              "#7201a8"
             ],
             [
              0.3333333333333333,
              "#9c179e"
             ],
             [
              0.4444444444444444,
              "#bd3786"
             ],
             [
              0.5555555555555556,
              "#d8576b"
             ],
             [
              0.6666666666666666,
              "#ed7953"
             ],
             [
              0.7777777777777778,
              "#fb9f3a"
             ],
             [
              0.8888888888888888,
              "#fdca26"
             ],
             [
              1,
              "#f0f921"
             ]
            ],
            "type": "heatmapgl"
           }
          ],
          "histogram": [
           {
            "marker": {
             "pattern": {
              "fillmode": "overlay",
              "size": 10,
              "solidity": 0.2
             }
            },
            "type": "histogram"
           }
          ],
          "histogram2d": [
           {
            "colorbar": {
             "outlinewidth": 0,
             "ticks": ""
            },
            "colorscale": [
             [
              0,
              "#0d0887"
             ],
             [
              0.1111111111111111,
              "#46039f"
             ],
             [
              0.2222222222222222,
              "#7201a8"
             ],
             [
              0.3333333333333333,
              "#9c179e"
             ],
             [
              0.4444444444444444,
              "#bd3786"
             ],
             [
              0.5555555555555556,
              "#d8576b"
             ],
             [
              0.6666666666666666,
              "#ed7953"
             ],
             [
              0.7777777777777778,
              "#fb9f3a"
             ],
             [
              0.8888888888888888,
              "#fdca26"
             ],
             [
              1,
              "#f0f921"
             ]
            ],
            "type": "histogram2d"
           }
          ],
          "histogram2dcontour": [
           {
            "colorbar": {
             "outlinewidth": 0,
             "ticks": ""
            },
            "colorscale": [
             [
              0,
              "#0d0887"
             ],
             [
              0.1111111111111111,
              "#46039f"
             ],
             [
              0.2222222222222222,
              "#7201a8"
             ],
             [
              0.3333333333333333,
              "#9c179e"
             ],
             [
              0.4444444444444444,
              "#bd3786"
             ],
             [
              0.5555555555555556,
              "#d8576b"
             ],
             [
              0.6666666666666666,
              "#ed7953"
             ],
             [
              0.7777777777777778,
              "#fb9f3a"
             ],
             [
              0.8888888888888888,
              "#fdca26"
             ],
             [
              1,
              "#f0f921"
             ]
            ],
            "type": "histogram2dcontour"
           }
          ],
          "mesh3d": [
           {
            "colorbar": {
             "outlinewidth": 0,
             "ticks": ""
            },
            "type": "mesh3d"
           }
          ],
          "parcoords": [
           {
            "line": {
             "colorbar": {
              "outlinewidth": 0,
              "ticks": ""
             }
            },
            "type": "parcoords"
           }
          ],
          "pie": [
           {
            "automargin": true,
            "type": "pie"
           }
          ],
          "scatter": [
           {
            "fillpattern": {
             "fillmode": "overlay",
             "size": 10,
             "solidity": 0.2
            },
            "type": "scatter"
           }
          ],
          "scatter3d": [
           {
            "line": {
             "colorbar": {
              "outlinewidth": 0,
              "ticks": ""
             }
            },
            "marker": {
             "colorbar": {
              "outlinewidth": 0,
              "ticks": ""
             }
            },
            "type": "scatter3d"
           }
          ],
          "scattercarpet": [
           {
            "marker": {
             "colorbar": {
              "outlinewidth": 0,
              "ticks": ""
             }
            },
            "type": "scattercarpet"
           }
          ],
          "scattergeo": [
           {
            "marker": {
             "colorbar": {
              "outlinewidth": 0,
              "ticks": ""
             }
            },
            "type": "scattergeo"
           }
          ],
          "scattergl": [
           {
            "marker": {
             "colorbar": {
              "outlinewidth": 0,
              "ticks": ""
             }
            },
            "type": "scattergl"
           }
          ],
          "scattermapbox": [
           {
            "marker": {
             "colorbar": {
              "outlinewidth": 0,
              "ticks": ""
             }
            },
            "type": "scattermapbox"
           }
          ],
          "scatterpolar": [
           {
            "marker": {
             "colorbar": {
              "outlinewidth": 0,
              "ticks": ""
             }
            },
            "type": "scatterpolar"
           }
          ],
          "scatterpolargl": [
           {
            "marker": {
             "colorbar": {
              "outlinewidth": 0,
              "ticks": ""
             }
            },
            "type": "scatterpolargl"
           }
          ],
          "scatterternary": [
           {
            "marker": {
             "colorbar": {
              "outlinewidth": 0,
              "ticks": ""
             }
            },
            "type": "scatterternary"
           }
          ],
          "surface": [
           {
            "colorbar": {
             "outlinewidth": 0,
             "ticks": ""
            },
            "colorscale": [
             [
              0,
              "#0d0887"
             ],
             [
              0.1111111111111111,
              "#46039f"
             ],
             [
              0.2222222222222222,
              "#7201a8"
             ],
             [
              0.3333333333333333,
              "#9c179e"
             ],
             [
              0.4444444444444444,
              "#bd3786"
             ],
             [
              0.5555555555555556,
              "#d8576b"
             ],
             [
              0.6666666666666666,
              "#ed7953"
             ],
             [
              0.7777777777777778,
              "#fb9f3a"
             ],
             [
              0.8888888888888888,
              "#fdca26"
             ],
             [
              1,
              "#f0f921"
             ]
            ],
            "type": "surface"
           }
          ],
          "table": [
           {
            "cells": {
             "fill": {
              "color": "#EBF0F8"
             },
             "line": {
              "color": "white"
             }
            },
            "header": {
             "fill": {
              "color": "#C8D4E3"
             },
             "line": {
              "color": "white"
             }
            },
            "type": "table"
           }
          ]
         },
         "layout": {
          "annotationdefaults": {
           "arrowcolor": "#2a3f5f",
           "arrowhead": 0,
           "arrowwidth": 1
          },
          "autotypenumbers": "strict",
          "coloraxis": {
           "colorbar": {
            "outlinewidth": 0,
            "ticks": ""
           }
          },
          "colorscale": {
           "diverging": [
            [
             0,
             "#8e0152"
            ],
            [
             0.1,
             "#c51b7d"
            ],
            [
             0.2,
             "#de77ae"
            ],
            [
             0.3,
             "#f1b6da"
            ],
            [
             0.4,
             "#fde0ef"
            ],
            [
             0.5,
             "#f7f7f7"
            ],
            [
             0.6,
             "#e6f5d0"
            ],
            [
             0.7,
             "#b8e186"
            ],
            [
             0.8,
             "#7fbc41"
            ],
            [
             0.9,
             "#4d9221"
            ],
            [
             1,
             "#276419"
            ]
           ],
           "sequential": [
            [
             0,
             "#0d0887"
            ],
            [
             0.1111111111111111,
             "#46039f"
            ],
            [
             0.2222222222222222,
             "#7201a8"
            ],
            [
             0.3333333333333333,
             "#9c179e"
            ],
            [
             0.4444444444444444,
             "#bd3786"
            ],
            [
             0.5555555555555556,
             "#d8576b"
            ],
            [
             0.6666666666666666,
             "#ed7953"
            ],
            [
             0.7777777777777778,
             "#fb9f3a"
            ],
            [
             0.8888888888888888,
             "#fdca26"
            ],
            [
             1,
             "#f0f921"
            ]
           ],
           "sequentialminus": [
            [
             0,
             "#0d0887"
            ],
            [
             0.1111111111111111,
             "#46039f"
            ],
            [
             0.2222222222222222,
             "#7201a8"
            ],
            [
             0.3333333333333333,
             "#9c179e"
            ],
            [
             0.4444444444444444,
             "#bd3786"
            ],
            [
             0.5555555555555556,
             "#d8576b"
            ],
            [
             0.6666666666666666,
             "#ed7953"
            ],
            [
             0.7777777777777778,
             "#fb9f3a"
            ],
            [
             0.8888888888888888,
             "#fdca26"
            ],
            [
             1,
             "#f0f921"
            ]
           ]
          },
          "colorway": [
           "#636efa",
           "#EF553B",
           "#00cc96",
           "#ab63fa",
           "#FFA15A",
           "#19d3f3",
           "#FF6692",
           "#B6E880",
           "#FF97FF",
           "#FECB52"
          ],
          "font": {
           "color": "#2a3f5f"
          },
          "geo": {
           "bgcolor": "white",
           "lakecolor": "white",
           "landcolor": "#E5ECF6",
           "showlakes": true,
           "showland": true,
           "subunitcolor": "white"
          },
          "hoverlabel": {
           "align": "left"
          },
          "hovermode": "closest",
          "mapbox": {
           "style": "light"
          },
          "paper_bgcolor": "white",
          "plot_bgcolor": "#E5ECF6",
          "polar": {
           "angularaxis": {
            "gridcolor": "white",
            "linecolor": "white",
            "ticks": ""
           },
           "bgcolor": "#E5ECF6",
           "radialaxis": {
            "gridcolor": "white",
            "linecolor": "white",
            "ticks": ""
           }
          },
          "scene": {
           "xaxis": {
            "backgroundcolor": "#E5ECF6",
            "gridcolor": "white",
            "gridwidth": 2,
            "linecolor": "white",
            "showbackground": true,
            "ticks": "",
            "zerolinecolor": "white"
           },
           "yaxis": {
            "backgroundcolor": "#E5ECF6",
            "gridcolor": "white",
            "gridwidth": 2,
            "linecolor": "white",
            "showbackground": true,
            "ticks": "",
            "zerolinecolor": "white"
           },
           "zaxis": {
            "backgroundcolor": "#E5ECF6",
            "gridcolor": "white",
            "gridwidth": 2,
            "linecolor": "white",
            "showbackground": true,
            "ticks": "",
            "zerolinecolor": "white"
           }
          },
          "shapedefaults": {
           "line": {
            "color": "#2a3f5f"
           }
          },
          "ternary": {
           "aaxis": {
            "gridcolor": "white",
            "linecolor": "white",
            "ticks": ""
           },
           "baxis": {
            "gridcolor": "white",
            "linecolor": "white",
            "ticks": ""
           },
           "bgcolor": "#E5ECF6",
           "caxis": {
            "gridcolor": "white",
            "linecolor": "white",
            "ticks": ""
           }
          },
          "title": {
           "x": 0.05
          },
          "xaxis": {
           "automargin": true,
           "gridcolor": "white",
           "linecolor": "white",
           "ticks": "",
           "title": {
            "standoff": 15
           },
           "zerolinecolor": "white",
           "zerolinewidth": 2
          },
          "yaxis": {
           "automargin": true,
           "gridcolor": "white",
           "linecolor": "white",
           "ticks": "",
           "title": {
            "standoff": 15
           },
           "zerolinecolor": "white",
           "zerolinewidth": 2
          }
         }
        },
        "title": {
         "text": "Percentage Change of Total Copper Demand per Scenarios"
        },
        "xaxis": {
         "title": {
          "text": "Year"
         }
        },
        "yaxis": {
         "title": {
          "text": "Percentage Change (%)"
         }
        }
       }
      },
      "text/html": [
       "<div>                            <div id=\"ebe6ab56-dabd-4d5e-b05a-c0f92aa520ee\" class=\"plotly-graph-div\" style=\"height:525px; width:100%;\"></div>            <script type=\"text/javascript\">                require([\"plotly\"], function(Plotly) {                    window.PLOTLYENV=window.PLOTLYENV || {};                                    if (document.getElementById(\"ebe6ab56-dabd-4d5e-b05a-c0f92aa520ee\")) {                    Plotly.newPlot(                        \"ebe6ab56-dabd-4d5e-b05a-c0f92aa520ee\",                        [{\"mode\":\"lines+markers\",\"name\":\"STEPS\",\"x\":[2030,2035,2040,2045,2050],\"y\":[19.170364653675477,5.433409966648317,4.3610454224378925,6.306465377711068,4.191119477355776],\"type\":\"scatter\"},{\"mode\":\"lines+markers\",\"name\":\"APS\",\"x\":[2030,2035,2040,2045,2050],\"y\":[21.00327995369477,7.497289367944382,7.27995490818476,5.13784807676354,3.8505036690250183],\"type\":\"scatter\"},{\"mode\":\"lines+markers\",\"name\":\"NZE\",\"x\":[2030,2035,2040,2045,2050],\"y\":[29.06038973567432,10.99384081803505,4.819114834469196,2.490234375,2.0862064642310774],\"type\":\"scatter\"}],                        {\"template\":{\"data\":{\"histogram2dcontour\":[{\"type\":\"histogram2dcontour\",\"colorbar\":{\"outlinewidth\":0,\"ticks\":\"\"},\"colorscale\":[[0.0,\"#0d0887\"],[0.1111111111111111,\"#46039f\"],[0.2222222222222222,\"#7201a8\"],[0.3333333333333333,\"#9c179e\"],[0.4444444444444444,\"#bd3786\"],[0.5555555555555556,\"#d8576b\"],[0.6666666666666666,\"#ed7953\"],[0.7777777777777778,\"#fb9f3a\"],[0.8888888888888888,\"#fdca26\"],[1.0,\"#f0f921\"]]}],\"choropleth\":[{\"type\":\"choropleth\",\"colorbar\":{\"outlinewidth\":0,\"ticks\":\"\"}}],\"histogram2d\":[{\"type\":\"histogram2d\",\"colorbar\":{\"outlinewidth\":0,\"ticks\":\"\"},\"colorscale\":[[0.0,\"#0d0887\"],[0.1111111111111111,\"#46039f\"],[0.2222222222222222,\"#7201a8\"],[0.3333333333333333,\"#9c179e\"],[0.4444444444444444,\"#bd3786\"],[0.5555555555555556,\"#d8576b\"],[0.6666666666666666,\"#ed7953\"],[0.7777777777777778,\"#fb9f3a\"],[0.8888888888888888,\"#fdca26\"],[1.0,\"#f0f921\"]]}],\"heatmap\":[{\"type\":\"heatmap\",\"colorbar\":{\"outlinewidth\":0,\"ticks\":\"\"},\"colorscale\":[[0.0,\"#0d0887\"],[0.1111111111111111,\"#46039f\"],[0.2222222222222222,\"#7201a8\"],[0.3333333333333333,\"#9c179e\"],[0.4444444444444444,\"#bd3786\"],[0.5555555555555556,\"#d8576b\"],[0.6666666666666666,\"#ed7953\"],[0.7777777777777778,\"#fb9f3a\"],[0.8888888888888888,\"#fdca26\"],[1.0,\"#f0f921\"]]}],\"heatmapgl\":[{\"type\":\"heatmapgl\",\"colorbar\":{\"outlinewidth\":0,\"ticks\":\"\"},\"colorscale\":[[0.0,\"#0d0887\"],[0.1111111111111111,\"#46039f\"],[0.2222222222222222,\"#7201a8\"],[0.3333333333333333,\"#9c179e\"],[0.4444444444444444,\"#bd3786\"],[0.5555555555555556,\"#d8576b\"],[0.6666666666666666,\"#ed7953\"],[0.7777777777777778,\"#fb9f3a\"],[0.8888888888888888,\"#fdca26\"],[1.0,\"#f0f921\"]]}],\"contourcarpet\":[{\"type\":\"contourcarpet\",\"colorbar\":{\"outlinewidth\":0,\"ticks\":\"\"}}],\"contour\":[{\"type\":\"contour\",\"colorbar\":{\"outlinewidth\":0,\"ticks\":\"\"},\"colorscale\":[[0.0,\"#0d0887\"],[0.1111111111111111,\"#46039f\"],[0.2222222222222222,\"#7201a8\"],[0.3333333333333333,\"#9c179e\"],[0.4444444444444444,\"#bd3786\"],[0.5555555555555556,\"#d8576b\"],[0.6666666666666666,\"#ed7953\"],[0.7777777777777778,\"#fb9f3a\"],[0.8888888888888888,\"#fdca26\"],[1.0,\"#f0f921\"]]}],\"surface\":[{\"type\":\"surface\",\"colorbar\":{\"outlinewidth\":0,\"ticks\":\"\"},\"colorscale\":[[0.0,\"#0d0887\"],[0.1111111111111111,\"#46039f\"],[0.2222222222222222,\"#7201a8\"],[0.3333333333333333,\"#9c179e\"],[0.4444444444444444,\"#bd3786\"],[0.5555555555555556,\"#d8576b\"],[0.6666666666666666,\"#ed7953\"],[0.7777777777777778,\"#fb9f3a\"],[0.8888888888888888,\"#fdca26\"],[1.0,\"#f0f921\"]]}],\"mesh3d\":[{\"type\":\"mesh3d\",\"colorbar\":{\"outlinewidth\":0,\"ticks\":\"\"}}],\"scatter\":[{\"fillpattern\":{\"fillmode\":\"overlay\",\"size\":10,\"solidity\":0.2},\"type\":\"scatter\"}],\"parcoords\":[{\"type\":\"parcoords\",\"line\":{\"colorbar\":{\"outlinewidth\":0,\"ticks\":\"\"}}}],\"scatterpolargl\":[{\"type\":\"scatterpolargl\",\"marker\":{\"colorbar\":{\"outlinewidth\":0,\"ticks\":\"\"}}}],\"bar\":[{\"error_x\":{\"color\":\"#2a3f5f\"},\"error_y\":{\"color\":\"#2a3f5f\"},\"marker\":{\"line\":{\"color\":\"#E5ECF6\",\"width\":0.5},\"pattern\":{\"fillmode\":\"overlay\",\"size\":10,\"solidity\":0.2}},\"type\":\"bar\"}],\"scattergeo\":[{\"type\":\"scattergeo\",\"marker\":{\"colorbar\":{\"outlinewidth\":0,\"ticks\":\"\"}}}],\"scatterpolar\":[{\"type\":\"scatterpolar\",\"marker\":{\"colorbar\":{\"outlinewidth\":0,\"ticks\":\"\"}}}],\"histogram\":[{\"marker\":{\"pattern\":{\"fillmode\":\"overlay\",\"size\":10,\"solidity\":0.2}},\"type\":\"histogram\"}],\"scattergl\":[{\"type\":\"scattergl\",\"marker\":{\"colorbar\":{\"outlinewidth\":0,\"ticks\":\"\"}}}],\"scatter3d\":[{\"type\":\"scatter3d\",\"line\":{\"colorbar\":{\"outlinewidth\":0,\"ticks\":\"\"}},\"marker\":{\"colorbar\":{\"outlinewidth\":0,\"ticks\":\"\"}}}],\"scattermapbox\":[{\"type\":\"scattermapbox\",\"marker\":{\"colorbar\":{\"outlinewidth\":0,\"ticks\":\"\"}}}],\"scatterternary\":[{\"type\":\"scatterternary\",\"marker\":{\"colorbar\":{\"outlinewidth\":0,\"ticks\":\"\"}}}],\"scattercarpet\":[{\"type\":\"scattercarpet\",\"marker\":{\"colorbar\":{\"outlinewidth\":0,\"ticks\":\"\"}}}],\"carpet\":[{\"aaxis\":{\"endlinecolor\":\"#2a3f5f\",\"gridcolor\":\"white\",\"linecolor\":\"white\",\"minorgridcolor\":\"white\",\"startlinecolor\":\"#2a3f5f\"},\"baxis\":{\"endlinecolor\":\"#2a3f5f\",\"gridcolor\":\"white\",\"linecolor\":\"white\",\"minorgridcolor\":\"white\",\"startlinecolor\":\"#2a3f5f\"},\"type\":\"carpet\"}],\"table\":[{\"cells\":{\"fill\":{\"color\":\"#EBF0F8\"},\"line\":{\"color\":\"white\"}},\"header\":{\"fill\":{\"color\":\"#C8D4E3\"},\"line\":{\"color\":\"white\"}},\"type\":\"table\"}],\"barpolar\":[{\"marker\":{\"line\":{\"color\":\"#E5ECF6\",\"width\":0.5},\"pattern\":{\"fillmode\":\"overlay\",\"size\":10,\"solidity\":0.2}},\"type\":\"barpolar\"}],\"pie\":[{\"automargin\":true,\"type\":\"pie\"}]},\"layout\":{\"autotypenumbers\":\"strict\",\"colorway\":[\"#636efa\",\"#EF553B\",\"#00cc96\",\"#ab63fa\",\"#FFA15A\",\"#19d3f3\",\"#FF6692\",\"#B6E880\",\"#FF97FF\",\"#FECB52\"],\"font\":{\"color\":\"#2a3f5f\"},\"hovermode\":\"closest\",\"hoverlabel\":{\"align\":\"left\"},\"paper_bgcolor\":\"white\",\"plot_bgcolor\":\"#E5ECF6\",\"polar\":{\"bgcolor\":\"#E5ECF6\",\"angularaxis\":{\"gridcolor\":\"white\",\"linecolor\":\"white\",\"ticks\":\"\"},\"radialaxis\":{\"gridcolor\":\"white\",\"linecolor\":\"white\",\"ticks\":\"\"}},\"ternary\":{\"bgcolor\":\"#E5ECF6\",\"aaxis\":{\"gridcolor\":\"white\",\"linecolor\":\"white\",\"ticks\":\"\"},\"baxis\":{\"gridcolor\":\"white\",\"linecolor\":\"white\",\"ticks\":\"\"},\"caxis\":{\"gridcolor\":\"white\",\"linecolor\":\"white\",\"ticks\":\"\"}},\"coloraxis\":{\"colorbar\":{\"outlinewidth\":0,\"ticks\":\"\"}},\"colorscale\":{\"sequential\":[[0.0,\"#0d0887\"],[0.1111111111111111,\"#46039f\"],[0.2222222222222222,\"#7201a8\"],[0.3333333333333333,\"#9c179e\"],[0.4444444444444444,\"#bd3786\"],[0.5555555555555556,\"#d8576b\"],[0.6666666666666666,\"#ed7953\"],[0.7777777777777778,\"#fb9f3a\"],[0.8888888888888888,\"#fdca26\"],[1.0,\"#f0f921\"]],\"sequentialminus\":[[0.0,\"#0d0887\"],[0.1111111111111111,\"#46039f\"],[0.2222222222222222,\"#7201a8\"],[0.3333333333333333,\"#9c179e\"],[0.4444444444444444,\"#bd3786\"],[0.5555555555555556,\"#d8576b\"],[0.6666666666666666,\"#ed7953\"],[0.7777777777777778,\"#fb9f3a\"],[0.8888888888888888,\"#fdca26\"],[1.0,\"#f0f921\"]],\"diverging\":[[0,\"#8e0152\"],[0.1,\"#c51b7d\"],[0.2,\"#de77ae\"],[0.3,\"#f1b6da\"],[0.4,\"#fde0ef\"],[0.5,\"#f7f7f7\"],[0.6,\"#e6f5d0\"],[0.7,\"#b8e186\"],[0.8,\"#7fbc41\"],[0.9,\"#4d9221\"],[1,\"#276419\"]]},\"xaxis\":{\"gridcolor\":\"white\",\"linecolor\":\"white\",\"ticks\":\"\",\"title\":{\"standoff\":15},\"zerolinecolor\":\"white\",\"automargin\":true,\"zerolinewidth\":2},\"yaxis\":{\"gridcolor\":\"white\",\"linecolor\":\"white\",\"ticks\":\"\",\"title\":{\"standoff\":15},\"zerolinecolor\":\"white\",\"automargin\":true,\"zerolinewidth\":2},\"scene\":{\"xaxis\":{\"backgroundcolor\":\"#E5ECF6\",\"gridcolor\":\"white\",\"linecolor\":\"white\",\"showbackground\":true,\"ticks\":\"\",\"zerolinecolor\":\"white\",\"gridwidth\":2},\"yaxis\":{\"backgroundcolor\":\"#E5ECF6\",\"gridcolor\":\"white\",\"linecolor\":\"white\",\"showbackground\":true,\"ticks\":\"\",\"zerolinecolor\":\"white\",\"gridwidth\":2},\"zaxis\":{\"backgroundcolor\":\"#E5ECF6\",\"gridcolor\":\"white\",\"linecolor\":\"white\",\"showbackground\":true,\"ticks\":\"\",\"zerolinecolor\":\"white\",\"gridwidth\":2}},\"shapedefaults\":{\"line\":{\"color\":\"#2a3f5f\"}},\"annotationdefaults\":{\"arrowcolor\":\"#2a3f5f\",\"arrowhead\":0,\"arrowwidth\":1},\"geo\":{\"bgcolor\":\"white\",\"landcolor\":\"#E5ECF6\",\"subunitcolor\":\"white\",\"showland\":true,\"showlakes\":true,\"lakecolor\":\"white\"},\"title\":{\"x\":0.05},\"mapbox\":{\"style\":\"light\"}}},\"title\":{\"text\":\"Percentage Change of Total Copper Demand per Scenarios\"},\"xaxis\":{\"title\":{\"text\":\"Year\"}},\"yaxis\":{\"title\":{\"text\":\"Percentage Change (%)\"}}},                        {\"responsive\": true}                    ).then(function(){\n",
       "                            \n",
       "var gd = document.getElementById('ebe6ab56-dabd-4d5e-b05a-c0f92aa520ee');\n",
       "var x = new MutationObserver(function (mutations, observer) {{\n",
       "        var display = window.getComputedStyle(gd).display;\n",
       "        if (!display || display === 'none') {{\n",
       "            console.log([gd, 'removed!']);\n",
       "            Plotly.purge(gd);\n",
       "            observer.disconnect();\n",
       "        }}\n",
       "}});\n",
       "\n",
       "// Listen for the removal of the full notebook cells\n",
       "var notebookContainer = gd.closest('#notebook-container');\n",
       "if (notebookContainer) {{\n",
       "    x.observe(notebookContainer, {childList: true});\n",
       "}}\n",
       "\n",
       "// Listen for the clearing of the current output cell\n",
       "var outputEl = gd.closest('.output');\n",
       "if (outputEl) {{\n",
       "    x.observe(outputEl, {childList: true});\n",
       "}}\n",
       "\n",
       "                        })                };                });            </script>        </div>"
      ]
     },
     "metadata": {},
     "output_type": "display_data"
    }
   ],
   "source": [
    "fig = go.Figure()\n",
    "\n",
    "# Add traces for each scenario\n",
    "for scenario in df_excl_base['scenarios'].unique():\n",
    "    scenario_data = df_excl_base[df_excl_base['scenarios'] == scenario]\n",
    "    fig.add_trace(go.Scatter(x=scenario_data['Year'], y=scenario_data['pct_change'], mode='lines+markers', name=scenario))\n",
    "\n",
    "# Set the layout\n",
    "fig.update_layout(\n",
    "    title='Percentage Change of Total Copper Demand per Scenarios',\n",
    "    xaxis_title='Year',\n",
    "    yaxis_title='Percentage Change (%)'\n",
    ")\n",
    "\n",
    "# Show the plot\n",
    "fig.show()"
   ]
  },
  {
   "cell_type": "code",
   "execution_count": 11,
   "id": "89ff2af4",
   "metadata": {},
   "outputs": [],
   "source": [
    "df_scenarios.to_excel(\"outputs/copper_analysis.xlsx\", index=False)"
   ]
  },
  {
   "cell_type": "code",
   "execution_count": null,
   "id": "b2e40595",
   "metadata": {},
   "outputs": [],
   "source": []
  },
  {
   "cell_type": "code",
   "execution_count": null,
   "id": "a2222719",
   "metadata": {},
   "outputs": [],
   "source": []
  },
  {
   "cell_type": "code",
   "execution_count": null,
   "id": "0f29bd18",
   "metadata": {},
   "outputs": [],
   "source": []
  },
  {
   "cell_type": "code",
   "execution_count": null,
   "id": "dff452e5",
   "metadata": {},
   "outputs": [],
   "source": []
  }
 ],
 "metadata": {
  "kernelspec": {
   "display_name": "Python 3 (ipykernel)",
   "language": "python",
   "name": "python3"
  },
  "language_info": {
   "codemirror_mode": {
    "name": "ipython",
    "version": 3
   },
   "file_extension": ".py",
   "mimetype": "text/x-python",
   "name": "python",
   "nbconvert_exporter": "python",
   "pygments_lexer": "ipython3",
   "version": "3.10.11"
  }
 },
 "nbformat": 4,
 "nbformat_minor": 5
}
